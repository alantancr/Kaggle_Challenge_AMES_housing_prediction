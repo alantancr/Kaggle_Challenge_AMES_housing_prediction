{
 "cells": [
  {
   "cell_type": "markdown",
   "metadata": {},
   "source": [
    "# Modelling"
   ]
  },
  {
   "cell_type": "markdown",
   "metadata": {},
   "source": [
    "## Import Library"
   ]
  },
  {
   "cell_type": "code",
   "execution_count": null,
   "metadata": {},
   "outputs": [],
   "source": []
  },
  {
   "cell_type": "code",
   "execution_count": 1,
   "metadata": {},
   "outputs": [],
   "source": [
    "# import libraries\n",
    "\n",
    "#maths\n",
    "import matplotlib.pyplot as plt\n",
    "import numpy as np\n",
    "import pandas as pd\n",
    "#from pandas_profiling import ProfileReport as pp\n",
    "import seaborn as sns\n",
    "import scipy.stats as stats\n",
    "import os, fnmatch\n",
    "\n",
    "\n",
    "sns.set_style('whitegrid')\n",
    "%matplotlib inline\n",
    "%config InlineBackend.figure_format = 'retina'\n",
    "\n",
    "from sklearn.linear_model import LogisticRegression, LinearRegression, Lasso, LassoCV, RidgeCV,Ridge\n",
    "\n",
    "from sklearn.model_selection import train_test_split, cross_val_score, cross_val_predict\n",
    "from sklearn.preprocessing import StandardScaler\n",
    "from sklearn.metrics import r2_score,mean_squared_error\n",
    "# import warnings\n",
    "# warnings.filterwarnings(action='once')"
   ]
  },
  {
   "cell_type": "code",
   "execution_count": 2,
   "metadata": {},
   "outputs": [],
   "source": [
    "#re-import the dataset\n",
    "train = pd.read_csv('../datasets/train_processed.csv')\n",
    "\n",
    "test = pd.read_csv('../datasets/test_processed.csv')"
   ]
  },
  {
   "cell_type": "code",
   "execution_count": 3,
   "metadata": {},
   "outputs": [
    {
     "name": "stdout",
     "output_type": "stream",
     "text": [
      "(2047, 181)\n",
      "(879, 180)\n"
     ]
    }
   ],
   "source": [
    "# check the shape of datasets\n",
    "print(train.shape)\n",
    "print(test.shape)\n"
   ]
  },
  {
   "cell_type": "markdown",
   "metadata": {},
   "source": [
    "## Features to model"
   ]
  },
  {
   "cell_type": "code",
   "execution_count": 4,
   "metadata": {},
   "outputs": [],
   "source": [
    "features=train.columns.drop(['saleprice','id'])"
   ]
  },
  {
   "cell_type": "code",
   "execution_count": 5,
   "metadata": {},
   "outputs": [],
   "source": [
    "#instantiate linearregression\n",
    "lr=LinearRegression()"
   ]
  },
  {
   "cell_type": "code",
   "execution_count": 6,
   "metadata": {},
   "outputs": [],
   "source": [
    "# first attempt to create a MLR without any transformation\n",
    "X=train[features]\n",
    "y=train['saleprice']"
   ]
  },
  {
   "cell_type": "code",
   "execution_count": 7,
   "metadata": {},
   "outputs": [
    {
     "data": {
      "text/plain": [
       "((1637, 179), (410, 179), (1637,), (410,))"
      ]
     },
     "execution_count": 7,
     "metadata": {},
     "output_type": "execute_result"
    }
   ],
   "source": [
    "X_train,X_test,y_train,y_test= train_test_split(X,y,test_size=0.2,random_state=15)\n",
    "X_train.shape,X_test.shape,y_train.shape,y_test.shape"
   ]
  },
  {
   "cell_type": "code",
   "execution_count": 8,
   "metadata": {},
   "outputs": [],
   "source": [
    "ss= StandardScaler()\n",
    "X_train_scaled=ss.fit_transform(X_train)\n",
    "X_test_scaled=ss.transform(X_test)"
   ]
  },
  {
   "cell_type": "code",
   "execution_count": 9,
   "metadata": {},
   "outputs": [],
   "source": [
    "#Linear Regression Fitting without any transformation\n",
    "linreg_scores=cross_val_score(lr, X_train_scaled, y_train, cv=10)\n",
    "lr.fit(X_train_scaled, y_train)\n",
    "r2_score_ling=np.mean(linreg_scores)\n"
   ]
  },
  {
   "cell_type": "code",
   "execution_count": 63,
   "metadata": {},
   "outputs": [
    {
     "name": "stdout",
     "output_type": "stream",
     "text": [
      "---Linear Regression---\n",
      "R2:-4.377466946216419e+19\n"
     ]
    }
   ],
   "source": [
    "print('---Linear Regression---')\n",
    "print('R2:{}'.format(r2_score_ling))"
   ]
  },
  {
   "cell_type": "code",
   "execution_count": 10,
   "metadata": {},
   "outputs": [],
   "source": [
    "# model=lr.fit(X,y)"
   ]
  },
  {
   "cell_type": "code",
   "execution_count": 11,
   "metadata": {},
   "outputs": [],
   "source": [
    "# predictions = model.predict(X)\n",
    "# score = model.score(X,y)\n",
    "# print(score)"
   ]
  },
  {
   "cell_type": "markdown",
   "metadata": {},
   "source": [
    "<br> This score also suggest that there may be co-linear relation among the features. We may re-look at the features to reduce them</br>"
   ]
  },
  {
   "cell_type": "code",
   "execution_count": 12,
   "metadata": {},
   "outputs": [],
   "source": [
    "# X_test_features=test.columns.drop(['id'])"
   ]
  },
  {
   "cell_type": "code",
   "execution_count": 13,
   "metadata": {},
   "outputs": [],
   "source": [
    "# X_test=test[X_test_features]"
   ]
  },
  {
   "cell_type": "code",
   "execution_count": 14,
   "metadata": {},
   "outputs": [],
   "source": [
    "# prediction=model.predict(X_test)"
   ]
  },
  {
   "cell_type": "code",
   "execution_count": 15,
   "metadata": {},
   "outputs": [],
   "source": [
    "# df= pd.DataFrame(test['id'])"
   ]
  },
  {
   "cell_type": "code",
   "execution_count": 16,
   "metadata": {},
   "outputs": [],
   "source": [
    "# df['saleprice']=prediction"
   ]
  },
  {
   "cell_type": "code",
   "execution_count": 17,
   "metadata": {},
   "outputs": [],
   "source": [
    "# df.set_index(['id'],inplace=True)"
   ]
  },
  {
   "cell_type": "code",
   "execution_count": 18,
   "metadata": {},
   "outputs": [],
   "source": [
    "# df.to_csv('../datasets/sub1.csv')"
   ]
  },
  {
   "cell_type": "markdown",
   "metadata": {},
   "source": [
    ">First submission: \n",
    "<br>Private score:29200.01198</br>\n",
    "<br>Public score: 27163.23540</br>"
   ]
  },
  {
   "cell_type": "code",
   "execution_count": 19,
   "metadata": {},
   "outputs": [],
   "source": [
    "#this function gerenrate csv with prediction scores\n",
    "def sub_df(predict,filepath):\n",
    "    df=pd.DataFrame(test['id'])\n",
    "    df['saleprice']=predict\n",
    "    df.set_index(['id'],inplace=True)\n",
    "    df.to_csv(filepath)"
   ]
  },
  {
   "cell_type": "markdown",
   "metadata": {},
   "source": [
    "## Model Preparation: Train/Test Split"
   ]
  },
  {
   "cell_type": "markdown",
   "metadata": {},
   "source": [
    "***Ridge or Lasso Regression***"
   ]
  },
  {
   "cell_type": "code",
   "execution_count": 20,
   "metadata": {},
   "outputs": [
    {
     "data": {
      "text/plain": [
       "((1637, 179), (410, 179), (1637,), (410,))"
      ]
     },
     "execution_count": 20,
     "metadata": {},
     "output_type": "execute_result"
    }
   ],
   "source": [
    "#Lasso\n",
    "X_train,X_test,y_train,y_test= train_test_split(X,y,test_size=0.2,random_state=15)\n",
    "X_train.shape,X_test.shape,y_train.shape,y_test.shape"
   ]
  },
  {
   "cell_type": "code",
   "execution_count": 21,
   "metadata": {},
   "outputs": [],
   "source": [
    "ss= StandardScaler()\n",
    "X_train_scaled=ss.fit_transform(X_train)\n",
    "X_test_scaled=ss.transform(X_test)\n"
   ]
  },
  {
   "cell_type": "code",
   "execution_count": 22,
   "metadata": {},
   "outputs": [],
   "source": [
    "# linear\n"
   ]
  },
  {
   "cell_type": "code",
   "execution_count": 23,
   "metadata": {},
   "outputs": [
    {
     "name": "stderr",
     "output_type": "stream",
     "text": [
      "/opt/anaconda3/lib/python3.7/site-packages/sklearn/model_selection/_split.py:1978: FutureWarning: The default value of cv will change from 3 to 5 in version 0.22. Specify it explicitly to silence this warning.\n",
      "  warnings.warn(CV_WARNING, FutureWarning)\n"
     ]
    }
   ],
   "source": [
    "lasso_search=LassoCV(n_alphas=300)\n",
    "lasso_search.fit(X_train_scaled,y_train)\n",
    "lasso=Lasso(alpha=lasso_search.alpha_,tol=0.1)"
   ]
  },
  {
   "cell_type": "code",
   "execution_count": 24,
   "metadata": {},
   "outputs": [],
   "source": [
    "score= cross_val_score(lasso,X_train_scaled,y_train,cv=10)\n",
    "lasso.fit(X_train_scaled,y_train)\n",
    "pred=lasso.predict(X_test_scaled)\n",
    "r2score_lasso=r2_score(y_test,pred)\n",
    "rmse_lasso=np.sqrt(mean_squared_error(y_test,pred))"
   ]
  },
  {
   "cell_type": "code",
   "execution_count": 25,
   "metadata": {},
   "outputs": [
    {
     "name": "stdout",
     "output_type": "stream",
     "text": [
      "---Lasso---\n",
      "0.8830015715950751\n",
      "26453.620443281423\n"
     ]
    }
   ],
   "source": [
    "print('---Lasso---')\n",
    "print(r2score_lasso)\n",
    "print(rmse_lasso)"
   ]
  },
  {
   "cell_type": "code",
   "execution_count": 26,
   "metadata": {},
   "outputs": [],
   "source": [
    "ridge_search=RidgeCV(alphas=np.logspace(0,5,200),store_cv_values=True)\n",
    "ridge_search.fit(X_train_scaled,y_train)\n",
    "ridge=Ridge(alpha=ridge_search.alpha_)"
   ]
  },
  {
   "cell_type": "code",
   "execution_count": 27,
   "metadata": {},
   "outputs": [],
   "source": [
    "score2=cross_val_score(ridge,X_train_scaled,y_train,cv=10)\n",
    "ridge.fit(X_train_scaled,y_train)\n",
    "pred=ridge.predict(X_test_scaled)\n",
    "r2score=r2_score(y_test,pred)\n",
    "rmse=np.sqrt(mean_squared_error(y_test,pred))"
   ]
  },
  {
   "cell_type": "code",
   "execution_count": 28,
   "metadata": {},
   "outputs": [
    {
     "name": "stdout",
     "output_type": "stream",
     "text": [
      "---Ridge---\n",
      "0.8857236890065557\n",
      "26144.07074830242\n"
     ]
    }
   ],
   "source": [
    "print('---Ridge---')\n",
    "print(r2score)\n",
    "print(rmse)"
   ]
  },
  {
   "cell_type": "code",
   "execution_count": 29,
   "metadata": {},
   "outputs": [],
   "source": [
    "ridge_coeff=dict(zip(features,ridge.coef_))"
   ]
  },
  {
   "cell_type": "code",
   "execution_count": 30,
   "metadata": {},
   "outputs": [],
   "source": [
    "df_ridge_coeff=pd.DataFrame(list(ridge_coeff.items()),columns=['features','coefficient'])"
   ]
  },
  {
   "cell_type": "code",
   "execution_count": 31,
   "metadata": {},
   "outputs": [],
   "source": [
    "df_ridge_coeff['abs_coefficient']=abs(df_ridge_coeff['coefficient'])"
   ]
  },
  {
   "cell_type": "code",
   "execution_count": 32,
   "metadata": {},
   "outputs": [],
   "source": [
    "feature_for_model2=df_ridge_coeff.sort_values('abs_coefficient',ascending=False).head(20)['features'].tolist()"
   ]
  },
  {
   "cell_type": "code",
   "execution_count": 33,
   "metadata": {},
   "outputs": [
    {
     "data": {
      "text/html": [
       "<div>\n",
       "<style scoped>\n",
       "    .dataframe tbody tr th:only-of-type {\n",
       "        vertical-align: middle;\n",
       "    }\n",
       "\n",
       "    .dataframe tbody tr th {\n",
       "        vertical-align: top;\n",
       "    }\n",
       "\n",
       "    .dataframe thead th {\n",
       "        text-align: right;\n",
       "    }\n",
       "</style>\n",
       "<table border=\"1\" class=\"dataframe\">\n",
       "  <thead>\n",
       "    <tr style=\"text-align: right;\">\n",
       "      <th></th>\n",
       "      <th>features</th>\n",
       "      <th>coefficient</th>\n",
       "      <th>abs_coefficient</th>\n",
       "    </tr>\n",
       "  </thead>\n",
       "  <tbody>\n",
       "    <tr>\n",
       "      <th>22</th>\n",
       "      <td>gr_liv_area</td>\n",
       "      <td>12238.820523</td>\n",
       "      <td>12238.820523</td>\n",
       "    </tr>\n",
       "    <tr>\n",
       "      <th>32</th>\n",
       "      <td>total_sf</td>\n",
       "      <td>10430.062498</td>\n",
       "      <td>10430.062498</td>\n",
       "    </tr>\n",
       "    <tr>\n",
       "      <th>4</th>\n",
       "      <td>overall_qual</td>\n",
       "      <td>9883.549132</td>\n",
       "      <td>9883.549132</td>\n",
       "    </tr>\n",
       "    <tr>\n",
       "      <th>14</th>\n",
       "      <td>bsmtfin_sf_1</td>\n",
       "      <td>7365.789647</td>\n",
       "      <td>7365.789647</td>\n",
       "    </tr>\n",
       "    <tr>\n",
       "      <th>82</th>\n",
       "      <td>neighborhood_NridgHt</td>\n",
       "      <td>7142.794793</td>\n",
       "      <td>7142.794793</td>\n",
       "    </tr>\n",
       "    <tr>\n",
       "      <th>1</th>\n",
       "      <td>lot_area</td>\n",
       "      <td>6729.989421</td>\n",
       "      <td>6729.989421</td>\n",
       "    </tr>\n",
       "    <tr>\n",
       "      <th>8</th>\n",
       "      <td>exter_qual</td>\n",
       "      <td>5675.827043</td>\n",
       "      <td>5675.827043</td>\n",
       "    </tr>\n",
       "    <tr>\n",
       "      <th>88</th>\n",
       "      <td>neighborhood_StoneBr</td>\n",
       "      <td>5661.767532</td>\n",
       "      <td>5661.767532</td>\n",
       "    </tr>\n",
       "    <tr>\n",
       "      <th>25</th>\n",
       "      <td>kitchen_qual</td>\n",
       "      <td>5564.550609</td>\n",
       "      <td>5564.550609</td>\n",
       "    </tr>\n",
       "    <tr>\n",
       "      <th>6</th>\n",
       "      <td>year_built</td>\n",
       "      <td>5413.763822</td>\n",
       "      <td>5413.763822</td>\n",
       "    </tr>\n",
       "    <tr>\n",
       "      <th>18</th>\n",
       "      <td>total_bsmt_sf</td>\n",
       "      <td>4868.769306</td>\n",
       "      <td>4868.769306</td>\n",
       "    </tr>\n",
       "    <tr>\n",
       "      <th>12</th>\n",
       "      <td>bsmt_exposure</td>\n",
       "      <td>4752.271635</td>\n",
       "      <td>4752.271635</td>\n",
       "    </tr>\n",
       "    <tr>\n",
       "      <th>5</th>\n",
       "      <td>overall_cond</td>\n",
       "      <td>4616.942790</td>\n",
       "      <td>4616.942790</td>\n",
       "    </tr>\n",
       "    <tr>\n",
       "      <th>20</th>\n",
       "      <td>1st_flr_sf</td>\n",
       "      <td>4550.016477</td>\n",
       "      <td>4550.016477</td>\n",
       "    </tr>\n",
       "    <tr>\n",
       "      <th>176</th>\n",
       "      <td>sale_type_New</td>\n",
       "      <td>4458.248526</td>\n",
       "      <td>4458.248526</td>\n",
       "    </tr>\n",
       "    <tr>\n",
       "      <th>123</th>\n",
       "      <td>exterior_1st_BrkFace</td>\n",
       "      <td>3722.385568</td>\n",
       "      <td>3722.385568</td>\n",
       "    </tr>\n",
       "    <tr>\n",
       "      <th>81</th>\n",
       "      <td>neighborhood_NoRidge</td>\n",
       "      <td>3482.917240</td>\n",
       "      <td>3482.917240</td>\n",
       "    </tr>\n",
       "    <tr>\n",
       "      <th>26</th>\n",
       "      <td>totrms_abvgrd</td>\n",
       "      <td>3468.092507</td>\n",
       "      <td>3468.092507</td>\n",
       "    </tr>\n",
       "    <tr>\n",
       "      <th>105</th>\n",
       "      <td>bldg_type_TwnhsE</td>\n",
       "      <td>-3430.631947</td>\n",
       "      <td>3430.631947</td>\n",
       "    </tr>\n",
       "    <tr>\n",
       "      <th>11</th>\n",
       "      <td>bsmt_cond</td>\n",
       "      <td>-3395.844533</td>\n",
       "      <td>3395.844533</td>\n",
       "    </tr>\n",
       "  </tbody>\n",
       "</table>\n",
       "</div>"
      ],
      "text/plain": [
       "                 features   coefficient  abs_coefficient\n",
       "22            gr_liv_area  12238.820523     12238.820523\n",
       "32               total_sf  10430.062498     10430.062498\n",
       "4            overall_qual   9883.549132      9883.549132\n",
       "14           bsmtfin_sf_1   7365.789647      7365.789647\n",
       "82   neighborhood_NridgHt   7142.794793      7142.794793\n",
       "1                lot_area   6729.989421      6729.989421\n",
       "8              exter_qual   5675.827043      5675.827043\n",
       "88   neighborhood_StoneBr   5661.767532      5661.767532\n",
       "25           kitchen_qual   5564.550609      5564.550609\n",
       "6              year_built   5413.763822      5413.763822\n",
       "18          total_bsmt_sf   4868.769306      4868.769306\n",
       "12          bsmt_exposure   4752.271635      4752.271635\n",
       "5            overall_cond   4616.942790      4616.942790\n",
       "20             1st_flr_sf   4550.016477      4550.016477\n",
       "176         sale_type_New   4458.248526      4458.248526\n",
       "123  exterior_1st_BrkFace   3722.385568      3722.385568\n",
       "81   neighborhood_NoRidge   3482.917240      3482.917240\n",
       "26          totrms_abvgrd   3468.092507      3468.092507\n",
       "105      bldg_type_TwnhsE  -3430.631947      3430.631947\n",
       "11              bsmt_cond  -3395.844533      3395.844533"
      ]
     },
     "execution_count": 33,
     "metadata": {},
     "output_type": "execute_result"
    }
   ],
   "source": [
    "df_ridge_coeff.sort_values('abs_coefficient',ascending=False).head(20)"
   ]
  },
  {
   "cell_type": "code",
   "execution_count": 34,
   "metadata": {},
   "outputs": [
    {
     "name": "stdout",
     "output_type": "stream",
     "text": [
      "['gr_liv_area', 'total_sf', 'overall_qual', 'bsmtfin_sf_1', 'neighborhood_NridgHt', 'lot_area', 'exter_qual', 'neighborhood_StoneBr', 'kitchen_qual', 'year_built', 'total_bsmt_sf', 'bsmt_exposure', 'overall_cond', '1st_flr_sf', 'sale_type_New', 'exterior_1st_BrkFace', 'neighborhood_NoRidge', 'totrms_abvgrd', 'bldg_type_TwnhsE', 'bsmt_cond']\n"
     ]
    }
   ],
   "source": [
    "print(feature_for_model2)"
   ]
  },
  {
   "cell_type": "code",
   "execution_count": 35,
   "metadata": {},
   "outputs": [],
   "source": [
    "# test for 20 features\n",
    "\n",
    "X=train[feature_for_model2]\n",
    "y=train['saleprice']"
   ]
  },
  {
   "cell_type": "code",
   "execution_count": 36,
   "metadata": {},
   "outputs": [
    {
     "name": "stdout",
     "output_type": "stream",
     "text": [
      "(1637, 20) (410, 20) (1637,) (410,)\n"
     ]
    }
   ],
   "source": [
    "X_train,X_test,y_train,y_test=train_test_split(X,y,test_size=0.2,random_state=15)\n",
    "print(X_train.shape,X_test.shape,y_train.shape,y_test.shape)"
   ]
  },
  {
   "cell_type": "code",
   "execution_count": 37,
   "metadata": {},
   "outputs": [],
   "source": [
    "ss=StandardScaler()\n",
    "X_train_scale=ss.fit_transform(X_train)\n",
    "X_test_scale=ss.transform(X_test)\n",
    "\n"
   ]
  },
  {
   "cell_type": "code",
   "execution_count": 38,
   "metadata": {},
   "outputs": [
    {
     "name": "stderr",
     "output_type": "stream",
     "text": [
      "/opt/anaconda3/lib/python3.7/site-packages/sklearn/model_selection/_split.py:1978: FutureWarning: The default value of cv will change from 3 to 5 in version 0.22. Specify it explicitly to silence this warning.\n",
      "  warnings.warn(CV_WARNING, FutureWarning)\n"
     ]
    }
   ],
   "source": [
    "#lasso method\n",
    "lasso_search=LassoCV(n_alphas=300)\n",
    "lasso_search.fit(X_train_scale,y_train)\n",
    "lasso=Lasso(alpha=lasso_search.alpha_, tol=0.1)\n"
   ]
  },
  {
   "cell_type": "code",
   "execution_count": 39,
   "metadata": {},
   "outputs": [],
   "source": [
    "score= cross_val_score(lasso,X_train_scale,y_train,cv=10)\n",
    "lasso.fit(X_train_scale,y_train)\n",
    "\n",
    "pred=lasso.predict(X_test_scale)\n",
    "r2score_lasso_new=r2_score(y_test,pred)\n",
    "rmse_lasso_new=np.sqrt(mean_squared_error(y_test,pred))"
   ]
  },
  {
   "cell_type": "code",
   "execution_count": 40,
   "metadata": {},
   "outputs": [
    {
     "name": "stdout",
     "output_type": "stream",
     "text": [
      "---Lasso---\n",
      "0.8592987340184035\n",
      "29009.758038459237\n"
     ]
    }
   ],
   "source": [
    "print('---Lasso---')\n",
    "print(r2score_lasso_new)\n",
    "print(rmse_lasso_new)"
   ]
  },
  {
   "cell_type": "code",
   "execution_count": 41,
   "metadata": {},
   "outputs": [],
   "source": [
    "#ridge model\n",
    "ridge_search=RidgeCV(alphas=np.logspace(0,5,200),store_cv_values=True)\n",
    "ridge_search.fit(X_train_scale,y_train)\n",
    "\n",
    "ridge=Ridge(alpha=ridge_search.alpha_)"
   ]
  },
  {
   "cell_type": "code",
   "execution_count": 42,
   "metadata": {},
   "outputs": [],
   "source": [
    "score=cross_val_score(ridge,X_train_scale,y_train,cv=10)\n",
    "ridge.fit(X_train_scale,y_train)\n",
    "\n",
    "pred= ridge.predict(X_test_scale)\n",
    "r2_score_new_ridge=r2_score(y_test,pred)\n",
    "rmse_new_ridge=np.sqrt(mean_squared_error(y_test,pred))"
   ]
  },
  {
   "cell_type": "code",
   "execution_count": 43,
   "metadata": {},
   "outputs": [
    {
     "name": "stdout",
     "output_type": "stream",
     "text": [
      "---Ridge---\n",
      "0.8667139402621421\n",
      "28234.978971784512\n"
     ]
    }
   ],
   "source": [
    "print('---Ridge---')\n",
    "print(r2_score_new_ridge)\n",
    "print(rmse_new_ridge)"
   ]
  },
  {
   "cell_type": "code",
   "execution_count": 44,
   "metadata": {},
   "outputs": [
    {
     "name": "stdout",
     "output_type": "stream",
     "text": [
      "(1637, 20) (410, 20) (1637,) (410,)\n"
     ]
    }
   ],
   "source": [
    "# try ridge for kaggle submission\n",
    "X=train[feature_for_model2]\n",
    "y=train['saleprice']\n",
    "\n",
    "X_train,X_test,y_train,y_test=train_test_split(X,y,test_size=0.2,random_state=50)\n",
    "print(X_train.shape,X_test.shape,y_train.shape,y_test.shape)\n",
    "\n",
    "\n"
   ]
  },
  {
   "cell_type": "code",
   "execution_count": 45,
   "metadata": {},
   "outputs": [],
   "source": [
    "ss=StandardScaler()\n",
    "\n",
    "X_train_scaled=ss.fit_transform(X_train)\n",
    "X_test_scaled=ss.transform(test[feature_for_model2])"
   ]
  },
  {
   "cell_type": "code",
   "execution_count": 46,
   "metadata": {},
   "outputs": [],
   "source": [
    "ridge_search=RidgeCV(alphas=np.logspace(0,5,200),store_cv_values=True)\n",
    "ridge_search.fit(X_train_scaled,y_train)\n",
    "ridge=Ridge(alpha=ridge_search.alpha_)"
   ]
  },
  {
   "cell_type": "code",
   "execution_count": 47,
   "metadata": {},
   "outputs": [],
   "source": [
    "score=cross_val_score(ridge,X_train_scaled,y_train,cv=10)\n",
    "ridge.fit(X_train_scaled,y_train)\n",
    "\n",
    "prediction=ridge.predict(X_test_scaled)"
   ]
  },
  {
   "cell_type": "code",
   "execution_count": 48,
   "metadata": {},
   "outputs": [],
   "source": [
    "sub_df(prediction,'../datasets/ridge_sub_featured.csv')"
   ]
  },
  {
   "cell_type": "markdown",
   "metadata": {},
   "source": [
    "Ridge model:\n",
    "public:31534.15730\n",
    "private:31990.36381"
   ]
  },
  {
   "cell_type": "code",
   "execution_count": 49,
   "metadata": {},
   "outputs": [
    {
     "name": "stdout",
     "output_type": "stream",
     "text": [
      "(1637, 20) (410, 20) (1637,) (410,)\n"
     ]
    }
   ],
   "source": [
    "# try lasso for kaggle submission\n",
    "X=train[feature_for_model2]\n",
    "y=train['saleprice']\n",
    "\n",
    "X_train,X_test,y_train,y_test=train_test_split(X,y,test_size=0.2,random_state=50)\n",
    "print(X_train.shape,X_test.shape,y_train.shape,y_test.shape)\n",
    "\n"
   ]
  },
  {
   "cell_type": "code",
   "execution_count": 50,
   "metadata": {},
   "outputs": [],
   "source": [
    "ss=StandardScaler()\n",
    "X_train_scaled=ss.fit_transform(X_train)\n",
    "X_test_scaled=ss.transform(test[feature_for_model2])"
   ]
  },
  {
   "cell_type": "code",
   "execution_count": 51,
   "metadata": {},
   "outputs": [
    {
     "name": "stderr",
     "output_type": "stream",
     "text": [
      "/opt/anaconda3/lib/python3.7/site-packages/sklearn/model_selection/_split.py:1978: FutureWarning: The default value of cv will change from 3 to 5 in version 0.22. Specify it explicitly to silence this warning.\n",
      "  warnings.warn(CV_WARNING, FutureWarning)\n"
     ]
    }
   ],
   "source": [
    "lasso_search=LassoCV(n_alphas=300)\n",
    "lasso_search.fit(X_train_scaled,y_train)\n",
    "lasso=Lasso(alpha=lasso_search.alpha_, tol=0.1)\n",
    "\n",
    "score=cross_val_score(lasso,X_train_scaled,y_train,cv=5)\n",
    "lasso.fit(X_train_scaled,y_train)\n",
    "\n",
    "prediction_lasso=lasso.predict(X_test_scaled)"
   ]
  },
  {
   "cell_type": "code",
   "execution_count": 52,
   "metadata": {},
   "outputs": [],
   "source": [
    "sub_df(prediction_lasso,'../datasets/lasso_sub_featured.csv')"
   ]
  },
  {
   "cell_type": "code",
   "execution_count": 53,
   "metadata": {},
   "outputs": [
    {
     "data": {
      "text/html": [
       "<div>\n",
       "<style scoped>\n",
       "    .dataframe tbody tr th:only-of-type {\n",
       "        vertical-align: middle;\n",
       "    }\n",
       "\n",
       "    .dataframe tbody tr th {\n",
       "        vertical-align: top;\n",
       "    }\n",
       "\n",
       "    .dataframe thead th {\n",
       "        text-align: right;\n",
       "    }\n",
       "</style>\n",
       "<table border=\"1\" class=\"dataframe\">\n",
       "  <thead>\n",
       "    <tr style=\"text-align: right;\">\n",
       "      <th></th>\n",
       "      <th>features</th>\n",
       "      <th>coefficient</th>\n",
       "      <th>abs_coefficient</th>\n",
       "    </tr>\n",
       "  </thead>\n",
       "  <tbody>\n",
       "    <tr>\n",
       "      <th>22</th>\n",
       "      <td>gr_liv_area</td>\n",
       "      <td>12238.820523</td>\n",
       "      <td>12238.820523</td>\n",
       "    </tr>\n",
       "    <tr>\n",
       "      <th>32</th>\n",
       "      <td>total_sf</td>\n",
       "      <td>10430.062498</td>\n",
       "      <td>10430.062498</td>\n",
       "    </tr>\n",
       "    <tr>\n",
       "      <th>4</th>\n",
       "      <td>overall_qual</td>\n",
       "      <td>9883.549132</td>\n",
       "      <td>9883.549132</td>\n",
       "    </tr>\n",
       "    <tr>\n",
       "      <th>14</th>\n",
       "      <td>bsmtfin_sf_1</td>\n",
       "      <td>7365.789647</td>\n",
       "      <td>7365.789647</td>\n",
       "    </tr>\n",
       "    <tr>\n",
       "      <th>82</th>\n",
       "      <td>neighborhood_NridgHt</td>\n",
       "      <td>7142.794793</td>\n",
       "      <td>7142.794793</td>\n",
       "    </tr>\n",
       "    <tr>\n",
       "      <th>1</th>\n",
       "      <td>lot_area</td>\n",
       "      <td>6729.989421</td>\n",
       "      <td>6729.989421</td>\n",
       "    </tr>\n",
       "    <tr>\n",
       "      <th>8</th>\n",
       "      <td>exter_qual</td>\n",
       "      <td>5675.827043</td>\n",
       "      <td>5675.827043</td>\n",
       "    </tr>\n",
       "    <tr>\n",
       "      <th>88</th>\n",
       "      <td>neighborhood_StoneBr</td>\n",
       "      <td>5661.767532</td>\n",
       "      <td>5661.767532</td>\n",
       "    </tr>\n",
       "    <tr>\n",
       "      <th>25</th>\n",
       "      <td>kitchen_qual</td>\n",
       "      <td>5564.550609</td>\n",
       "      <td>5564.550609</td>\n",
       "    </tr>\n",
       "    <tr>\n",
       "      <th>6</th>\n",
       "      <td>year_built</td>\n",
       "      <td>5413.763822</td>\n",
       "      <td>5413.763822</td>\n",
       "    </tr>\n",
       "    <tr>\n",
       "      <th>18</th>\n",
       "      <td>total_bsmt_sf</td>\n",
       "      <td>4868.769306</td>\n",
       "      <td>4868.769306</td>\n",
       "    </tr>\n",
       "    <tr>\n",
       "      <th>12</th>\n",
       "      <td>bsmt_exposure</td>\n",
       "      <td>4752.271635</td>\n",
       "      <td>4752.271635</td>\n",
       "    </tr>\n",
       "    <tr>\n",
       "      <th>5</th>\n",
       "      <td>overall_cond</td>\n",
       "      <td>4616.942790</td>\n",
       "      <td>4616.942790</td>\n",
       "    </tr>\n",
       "    <tr>\n",
       "      <th>20</th>\n",
       "      <td>1st_flr_sf</td>\n",
       "      <td>4550.016477</td>\n",
       "      <td>4550.016477</td>\n",
       "    </tr>\n",
       "    <tr>\n",
       "      <th>176</th>\n",
       "      <td>sale_type_New</td>\n",
       "      <td>4458.248526</td>\n",
       "      <td>4458.248526</td>\n",
       "    </tr>\n",
       "    <tr>\n",
       "      <th>123</th>\n",
       "      <td>exterior_1st_BrkFace</td>\n",
       "      <td>3722.385568</td>\n",
       "      <td>3722.385568</td>\n",
       "    </tr>\n",
       "    <tr>\n",
       "      <th>81</th>\n",
       "      <td>neighborhood_NoRidge</td>\n",
       "      <td>3482.917240</td>\n",
       "      <td>3482.917240</td>\n",
       "    </tr>\n",
       "    <tr>\n",
       "      <th>26</th>\n",
       "      <td>totrms_abvgrd</td>\n",
       "      <td>3468.092507</td>\n",
       "      <td>3468.092507</td>\n",
       "    </tr>\n",
       "    <tr>\n",
       "      <th>27</th>\n",
       "      <td>functional</td>\n",
       "      <td>3285.062256</td>\n",
       "      <td>3285.062256</td>\n",
       "    </tr>\n",
       "    <tr>\n",
       "      <th>33</th>\n",
       "      <td>total_baths</td>\n",
       "      <td>3119.553057</td>\n",
       "      <td>3119.553057</td>\n",
       "    </tr>\n",
       "  </tbody>\n",
       "</table>\n",
       "</div>"
      ],
      "text/plain": [
       "                 features   coefficient  abs_coefficient\n",
       "22            gr_liv_area  12238.820523     12238.820523\n",
       "32               total_sf  10430.062498     10430.062498\n",
       "4            overall_qual   9883.549132      9883.549132\n",
       "14           bsmtfin_sf_1   7365.789647      7365.789647\n",
       "82   neighborhood_NridgHt   7142.794793      7142.794793\n",
       "1                lot_area   6729.989421      6729.989421\n",
       "8              exter_qual   5675.827043      5675.827043\n",
       "88   neighborhood_StoneBr   5661.767532      5661.767532\n",
       "25           kitchen_qual   5564.550609      5564.550609\n",
       "6              year_built   5413.763822      5413.763822\n",
       "18          total_bsmt_sf   4868.769306      4868.769306\n",
       "12          bsmt_exposure   4752.271635      4752.271635\n",
       "5            overall_cond   4616.942790      4616.942790\n",
       "20             1st_flr_sf   4550.016477      4550.016477\n",
       "176         sale_type_New   4458.248526      4458.248526\n",
       "123  exterior_1st_BrkFace   3722.385568      3722.385568\n",
       "81   neighborhood_NoRidge   3482.917240      3482.917240\n",
       "26          totrms_abvgrd   3468.092507      3468.092507\n",
       "27             functional   3285.062256      3285.062256\n",
       "33            total_baths   3119.553057      3119.553057"
      ]
     },
     "execution_count": 53,
     "metadata": {},
     "output_type": "execute_result"
    }
   ],
   "source": [
    "df_ridge_coeff.sort_values(by='coefficient',ascending=False).head(20)"
   ]
  },
  {
   "cell_type": "markdown",
   "metadata": {},
   "source": [
    "lasso model\n",
    "public:31377.89468\n",
    "private:32009.04247"
   ]
  },
  {
   "cell_type": "code",
   "execution_count": null,
   "metadata": {},
   "outputs": [],
   "source": []
  },
  {
   "cell_type": "code",
   "execution_count": null,
   "metadata": {},
   "outputs": [],
   "source": []
  },
  {
   "cell_type": "code",
   "execution_count": null,
   "metadata": {},
   "outputs": [],
   "source": []
  },
  {
   "cell_type": "code",
   "execution_count": null,
   "metadata": {},
   "outputs": [],
   "source": []
  }
 ],
 "metadata": {
  "kernelspec": {
   "display_name": "Python 3",
   "language": "python",
   "name": "python3"
  },
  "language_info": {
   "codemirror_mode": {
    "name": "ipython",
    "version": 3
   },
   "file_extension": ".py",
   "mimetype": "text/x-python",
   "name": "python",
   "nbconvert_exporter": "python",
   "pygments_lexer": "ipython3",
   "version": "3.7.4"
  }
 },
 "nbformat": 4,
 "nbformat_minor": 2
}
